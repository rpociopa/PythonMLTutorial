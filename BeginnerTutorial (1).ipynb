{
  "metadata": {
    "kernelspec": {
      "name": "python",
      "display_name": "Python (Pyodide)",
      "language": "python"
    },
    "language_info": {
      "codemirror_mode": {
        "name": "python",
        "version": 3
      },
      "file_extension": ".py",
      "mimetype": "text/x-python",
      "name": "python",
      "nbconvert_exporter": "python",
      "pygments_lexer": "ipython3",
      "version": "3.8"
    }
  },
  "nbformat_minor": 4,
  "nbformat": 4,
  "cells": [
    {
      "cell_type": "markdown",
      "source": "## Python machine learning in Jupyter - the Titanic dataset\n### Using agconti's code with annotations for true beginners\n> User __[agconti]https://github.com/agconti/kaggle-titanic/tree/master__ has helpfully posted a tutorial for running machine learning models on the famous \"Titanic Passenger\" dataset.<br><br>\n> This notebook is for uber-beginners like myself. See this word processor style text? This is called **Markdown** code. If you're in GitHub and are seeing all the headings and bold and it's in black text, you're looking at the \"Preview\" of the code. If you click the **Code** button you'll see what you have to type to make it look that way. It's like the HTML commands used in the 90s to add formatting to internet bulletin board posts.<br>\n> If you're looking at it in a notebook (like Jupyter), change the cell type from \"Markdown\" to \"Code\" and you'll see the difference.<br><br>\n> IBM has a great cheat sheet for Markdown code: __[IBMCheatsheet]https://www.ibm.com/docs/en/watson-studio-local/1.2.3?topic=notebooks-markdown-jupyter-cheatsheet__<br>\n<br>\n### Explanations for everything\n> Each line of code will have an accompanying explanation, for people just beginning to learn Python. <br>\n### What will be covered\nThis is a beginner model so I'm not going to try to cover anything I don't understand myself. He used both Regression and Basic Random Forest models, but we're just going to look at Regression.<br>\n\n**Data Setup**\n * Using Pandas to import data\n * Cleaning data\n * Using Matplotlib to make graphs (Data Visualization)<br>\n**Data Analysis**\n * Supervised Machine Learning - Regression\n * Plotting results<br>\n**Data Validation**\n * Cross validation\n * Outputting results<br> <br>\n## Let's get started!",
      "metadata": {}
    },
    {
      "cell_type": "code",
      "source": "",
      "metadata": {
        "trusted": true
      },
      "outputs": [],
      "execution_count": null
    }
  ]
}